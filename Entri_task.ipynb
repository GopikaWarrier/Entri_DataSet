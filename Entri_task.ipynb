{
 "cells": [
  {
   "cell_type": "code",
   "execution_count": 83,
   "metadata": {},
   "outputs": [],
   "source": [
    "#importing libraries\n",
    "\n",
    "import numpy as np\n",
    "import pandas as pd\n",
    "import matplotlib.pyplot as plt\n",
    "import seaborn as sns\n",
    "\n",
    "import warnings\n",
    "warnings.filterwarnings('ignore')\n",
    "\n",
    "from sklearn.preprocessing import StandardScaler"
   ]
  },
  {
   "cell_type": "code",
   "execution_count": 84,
   "metadata": {},
   "outputs": [],
   "source": [
    "#read the dataset\n",
    "Track_subscription = pd.read_csv('D:\\\\user_data_set\\\\user_data_set\\\\track_subscription_data.csv')\n",
    "Purchase = pd.read_csv('D:\\\\user_data_set\\\\user_data_set\\\\user_purchase_data.csv')\n",
    "Quiz = pd.read_csv('D:\\\\user_data_set\\\\user_data_set\\\\user_quiz_attempt_data.csv')\n",
    "Study_Card = pd.read_csv('D:\\\\user_data_set\\\\user_data_set\\\\user_studycard_data.csv')\n",
    "Video_activity = pd.read_csv('D:\\\\user_data_set\\\\user_data_set\\\\user_video_activity_data.csv')\n",
    "\n",
    "\n",
    "\n"
   ]
  },
  {
   "cell_type": "code",
   "execution_count": 85,
   "metadata": {},
   "outputs": [
    {
     "data": {
      "text/plain": [
       "Paid      576\n",
       "Unpaid    424\n",
       "Name: Paid_flag, dtype: int64"
      ]
     },
     "execution_count": 85,
     "metadata": {},
     "output_type": "execute_result"
    }
   ],
   "source": [
    "#user who has a date_of_first_purhcase is considered as paid user.so defining a new column Paid_flag based on that\n",
    "def Payment(x):\n",
    "    category = \"\"\n",
    "    if pd.isnull(x):\n",
    "        category = 'Unpaid'\n",
    "    else:\n",
    "        category = 'Paid'\n",
    "    return category\n",
    "\n",
    "Purchase['Paid_flag'] = Purchase.apply(lambda x:Payment(x['date_of_first_purhcase']), axis = 1)\n",
    "Purchase['Paid_flag'].value_counts()"
   ]
  },
  {
   "cell_type": "code",
   "execution_count": 86,
   "metadata": {},
   "outputs": [],
   "source": [
    "#Renaming column name\n",
    "Purchase.rename(columns={'user_uid':'user_id'},inplace=True)"
   ]
  },
  {
   "cell_type": "code",
   "execution_count": 87,
   "metadata": {},
   "outputs": [
    {
     "name": "stdout",
     "output_type": "stream",
     "text": [
      "<class 'pandas.core.frame.DataFrame'>\n",
      "RangeIndex: 1000 entries, 0 to 999\n",
      "Data columns (total 4 columns):\n",
      " #   Column                  Non-Null Count  Dtype \n",
      "---  ------                  --------------  ----- \n",
      " 0   user_id                 1000 non-null   int64 \n",
      " 1   date_joined             1000 non-null   object\n",
      " 2   date_of_first_purhcase  576 non-null    object\n",
      " 3   Paid_flag               1000 non-null   object\n",
      "dtypes: int64(1), object(3)\n",
      "memory usage: 31.4+ KB\n"
     ]
    }
   ],
   "source": [
    "Purchase.info()"
   ]
  },
  {
   "cell_type": "code",
   "execution_count": 88,
   "metadata": {},
   "outputs": [
    {
     "data": {
      "text/html": [
       "<div>\n",
       "<style scoped>\n",
       "    .dataframe tbody tr th:only-of-type {\n",
       "        vertical-align: middle;\n",
       "    }\n",
       "\n",
       "    .dataframe tbody tr th {\n",
       "        vertical-align: top;\n",
       "    }\n",
       "\n",
       "    .dataframe thead th {\n",
       "        text-align: right;\n",
       "    }\n",
       "</style>\n",
       "<table border=\"1\" class=\"dataframe\">\n",
       "  <thead>\n",
       "    <tr style=\"text-align: right;\">\n",
       "      <th></th>\n",
       "      <th>user_id</th>\n",
       "      <th>date_joined</th>\n",
       "      <th>date_of_first_purhcase</th>\n",
       "      <th>Paid_flag</th>\n",
       "    </tr>\n",
       "  </thead>\n",
       "  <tbody>\n",
       "    <tr>\n",
       "      <th>0</th>\n",
       "      <td>6</td>\n",
       "      <td>2021-06-04</td>\n",
       "      <td>2021-06-04</td>\n",
       "      <td>Paid</td>\n",
       "    </tr>\n",
       "    <tr>\n",
       "      <th>1</th>\n",
       "      <td>608</td>\n",
       "      <td>2021-06-04</td>\n",
       "      <td>NaN</td>\n",
       "      <td>Unpaid</td>\n",
       "    </tr>\n",
       "    <tr>\n",
       "      <th>2</th>\n",
       "      <td>635</td>\n",
       "      <td>2021-06-04</td>\n",
       "      <td>NaN</td>\n",
       "      <td>Unpaid</td>\n",
       "    </tr>\n",
       "    <tr>\n",
       "      <th>3</th>\n",
       "      <td>745</td>\n",
       "      <td>2021-06-04</td>\n",
       "      <td>NaN</td>\n",
       "      <td>Unpaid</td>\n",
       "    </tr>\n",
       "    <tr>\n",
       "      <th>4</th>\n",
       "      <td>1506</td>\n",
       "      <td>2021-06-04</td>\n",
       "      <td>NaN</td>\n",
       "      <td>Unpaid</td>\n",
       "    </tr>\n",
       "  </tbody>\n",
       "</table>\n",
       "</div>"
      ],
      "text/plain": [
       "   user_id date_joined date_of_first_purhcase Paid_flag\n",
       "0        6  2021-06-04             2021-06-04      Paid\n",
       "1      608  2021-06-04                    NaN    Unpaid\n",
       "2      635  2021-06-04                    NaN    Unpaid\n",
       "3      745  2021-06-04                    NaN    Unpaid\n",
       "4     1506  2021-06-04                    NaN    Unpaid"
      ]
     },
     "execution_count": 88,
     "metadata": {},
     "output_type": "execute_result"
    }
   ],
   "source": [
    "Purchase.head()"
   ]
  },
  {
   "cell_type": "code",
   "execution_count": 89,
   "metadata": {},
   "outputs": [],
   "source": [
    "#Convert Type of date columns from Object to Datetime\n",
    "Purchase['date_joined']=pd.to_datetime(Purchase['date_joined'])\n",
    "Purchase['date_of_first_purhcase']=pd.to_datetime(Purchase['date_of_first_purhcase'])"
   ]
  },
  {
   "cell_type": "code",
   "execution_count": 90,
   "metadata": {},
   "outputs": [
    {
     "data": {
      "text/plain": [
       "0 days     234\n",
       "-1 days     80\n",
       "1 days      54\n",
       "3 days      34\n",
       "2 days      30\n",
       "5 days      18\n",
       "4 days      17\n",
       "7 days      12\n",
       "8 days      10\n",
       "6 days       8\n",
       "11 days      7\n",
       "9 days       7\n",
       "12 days      6\n",
       "22 days      5\n",
       "17 days      5\n",
       "19 days      5\n",
       "21 days      4\n",
       "15 days      4\n",
       "31 days      3\n",
       "16 days      3\n",
       "10 days      3\n",
       "13 days      3\n",
       "-2 days      3\n",
       "32 days      2\n",
       "23 days      2\n",
       "18 days      2\n",
       "24 days      2\n",
       "14 days      2\n",
       "25 days      1\n",
       "26 days      1\n",
       "20 days      1\n",
       "27 days      1\n",
       "35 days      1\n",
       "30 days      1\n",
       "34 days      1\n",
       "29 days      1\n",
       "28 days      1\n",
       "45 days      1\n",
       "48 days      1\n",
       "Name: Diff, dtype: int64"
      ]
     },
     "execution_count": 90,
     "metadata": {},
     "output_type": "execute_result"
    }
   ],
   "source": [
    "Purchase['Diff']= Purchase['date_of_first_purhcase'] - Purchase['date_joined']\n",
    "Purchase['Diff'].value_counts()"
   ]
  },
  {
   "cell_type": "code",
   "execution_count": 91,
   "metadata": {},
   "outputs": [],
   "source": [
    "Purchase['Diff_Days']=Purchase['Diff']/np.timedelta64(1,'D')\n"
   ]
  },
  {
   "cell_type": "code",
   "execution_count": 92,
   "metadata": {},
   "outputs": [
    {
     "data": {
      "text/plain": [
       "Text(0, 0.5, 'COUNT')"
      ]
     },
     "execution_count": 92,
     "metadata": {},
     "output_type": "execute_result"
    },
    {
     "data": {
      "image/png": "[encoded data removed]",
      "text/plain": [
       "<Figure size 1080x360 with 1 Axes>"
      ]
     },
     "metadata": {
      "needs_background": "light"
     },
     "output_type": "display_data"
    }
   ],
   "source": [
    "#Understand how many days it is taking for a user to purchase from date of Joining\n",
    "plt.figure(figsize=(15,5))\n",
    "\n",
    "plt.subplot(1, 2, 1)\n",
    "Purchase['Diff_Days'].plot.hist(bins=range(15))\n",
    "plt.title('diffrence in joined date and purchase date',fontsize=15)\n",
    "plt.xlabel('no_of_days')\n",
    "plt.ylabel('COUNT')\n",
    "\n"
   ]
  },
  {
   "cell_type": "markdown",
   "metadata": {},
   "source": [
    "From This we can understand most of the users purchase on their initial days of joining"
   ]
  },
  {
   "cell_type": "code",
   "execution_count": 93,
   "metadata": {},
   "outputs": [],
   "source": [
    "Purchase=Purchase.drop(['Diff_Days','Diff'],axis=1)"
   ]
  },
  {
   "cell_type": "code",
   "execution_count": 94,
   "metadata": {},
   "outputs": [
    {
     "data": {
      "text/plain": [
       "(1000, 4)"
      ]
     },
     "execution_count": 94,
     "metadata": {},
     "output_type": "execute_result"
    }
   ],
   "source": [
    "Purchase.shape"
   ]
  },
  {
   "cell_type": "code",
   "execution_count": 95,
   "metadata": {},
   "outputs": [
    {
     "data": {
      "text/html": [
       "<div>\n",
       "<style scoped>\n",
       "    .dataframe tbody tr th:only-of-type {\n",
       "        vertical-align: middle;\n",
       "    }\n",
       "\n",
       "    .dataframe tbody tr th {\n",
       "        vertical-align: top;\n",
       "    }\n",
       "\n",
       "    .dataframe thead th {\n",
       "        text-align: right;\n",
       "    }\n",
       "</style>\n",
       "<table border=\"1\" class=\"dataframe\">\n",
       "  <thead>\n",
       "    <tr style=\"text-align: right;\">\n",
       "      <th></th>\n",
       "      <th>user_id</th>\n",
       "      <th>date_joined</th>\n",
       "      <th>date_of_first_purhcase</th>\n",
       "      <th>Paid_flag</th>\n",
       "    </tr>\n",
       "  </thead>\n",
       "  <tbody>\n",
       "    <tr>\n",
       "      <th>0</th>\n",
       "      <td>6</td>\n",
       "      <td>2021-06-04</td>\n",
       "      <td>2021-06-04</td>\n",
       "      <td>Paid</td>\n",
       "    </tr>\n",
       "    <tr>\n",
       "      <th>1</th>\n",
       "      <td>608</td>\n",
       "      <td>2021-06-04</td>\n",
       "      <td>NaT</td>\n",
       "      <td>Unpaid</td>\n",
       "    </tr>\n",
       "    <tr>\n",
       "      <th>2</th>\n",
       "      <td>635</td>\n",
       "      <td>2021-06-04</td>\n",
       "      <td>NaT</td>\n",
       "      <td>Unpaid</td>\n",
       "    </tr>\n",
       "    <tr>\n",
       "      <th>3</th>\n",
       "      <td>745</td>\n",
       "      <td>2021-06-04</td>\n",
       "      <td>NaT</td>\n",
       "      <td>Unpaid</td>\n",
       "    </tr>\n",
       "    <tr>\n",
       "      <th>4</th>\n",
       "      <td>1506</td>\n",
       "      <td>2021-06-04</td>\n",
       "      <td>NaT</td>\n",
       "      <td>Unpaid</td>\n",
       "    </tr>\n",
       "  </tbody>\n",
       "</table>\n",
       "</div>"
      ],
      "text/plain": [
       "   user_id date_joined date_of_first_purhcase Paid_flag\n",
       "0        6  2021-06-04             2021-06-04      Paid\n",
       "1      608  2021-06-04                    NaT    Unpaid\n",
       "2      635  2021-06-04                    NaT    Unpaid\n",
       "3      745  2021-06-04                    NaT    Unpaid\n",
       "4     1506  2021-06-04                    NaT    Unpaid"
      ]
     },
     "execution_count": 95,
     "metadata": {},
     "output_type": "execute_result"
    }
   ],
   "source": [
    "Purchase.head()"
   ]
  },
  {
   "cell_type": "raw",
   "metadata": {},
   "source": []
  },
  {
   "cell_type": "code",
   "execution_count": 96,
   "metadata": {},
   "outputs": [],
   "source": [
    "#Joining Purchase with Track subscription dataframe\n",
    "Track_sub1=Track_subscription.merge(Purchase, on = ['user_id'], how = 'inner')"
   ]
  },
  {
   "cell_type": "code",
   "execution_count": 97,
   "metadata": {},
   "outputs": [
    {
     "name": "stdout",
     "output_type": "stream",
     "text": [
      "<class 'pandas.core.frame.DataFrame'>\n",
      "Int64Index: 1578 entries, 0 to 1577\n",
      "Data columns (total 6 columns):\n",
      " #   Column                  Non-Null Count  Dtype         \n",
      "---  ------                  --------------  -----         \n",
      " 0   user_id                 1578 non-null   int64         \n",
      " 1   track_slug              1578 non-null   object        \n",
      " 2   subscription_date       1578 non-null   object        \n",
      " 3   date_joined             1578 non-null   datetime64[ns]\n",
      " 4   date_of_first_purhcase  1096 non-null   datetime64[ns]\n",
      " 5   Paid_flag               1578 non-null   object        \n",
      "dtypes: datetime64[ns](2), int64(1), object(3)\n",
      "memory usage: 86.3+ KB\n"
     ]
    }
   ],
   "source": [
    "\n",
    "Track_sub1.info()"
   ]
  },
  {
   "cell_type": "code",
   "execution_count": 98,
   "metadata": {},
   "outputs": [],
   "source": [
    "#changing type of column subscription_date from object to datetime\n",
    "Track_sub1['subscription_date']=pd.to_datetime(Track_sub1['subscription_date'])\n"
   ]
  },
  {
   "cell_type": "code",
   "execution_count": 99,
   "metadata": {},
   "outputs": [
    {
     "name": "stdout",
     "output_type": "stream",
     "text": [
      "<class 'pandas.core.frame.DataFrame'>\n",
      "Int64Index: 1578 entries, 0 to 1577\n",
      "Data columns (total 6 columns):\n",
      " #   Column                  Non-Null Count  Dtype         \n",
      "---  ------                  --------------  -----         \n",
      " 0   user_id                 1578 non-null   int64         \n",
      " 1   track_slug              1578 non-null   object        \n",
      " 2   subscription_date       1578 non-null   datetime64[ns]\n",
      " 3   date_joined             1578 non-null   datetime64[ns]\n",
      " 4   date_of_first_purhcase  1096 non-null   datetime64[ns]\n",
      " 5   Paid_flag               1578 non-null   object        \n",
      "dtypes: datetime64[ns](3), int64(1), object(2)\n",
      "memory usage: 86.3+ KB\n"
     ]
    }
   ],
   "source": [
    "Track_sub1.info()"
   ]
  },
  {
   "cell_type": "code",
   "execution_count": 100,
   "metadata": {},
   "outputs": [],
   "source": [
    "#Joining Purchase with Quiz dataframe\n",
    "\n",
    "Quiz1=Quiz.merge(Purchase, on = ['user_id'], how = 'inner')"
   ]
  },
  {
   "cell_type": "code",
   "execution_count": 101,
   "metadata": {},
   "outputs": [
    {
     "name": "stdout",
     "output_type": "stream",
     "text": [
      "<class 'pandas.core.frame.DataFrame'>\n",
      "Int64Index: 21419 entries, 0 to 21418\n",
      "Data columns (total 9 columns):\n",
      " #   Column                  Non-Null Count  Dtype         \n",
      "---  ------                  --------------  -----         \n",
      " 0   user_id                 21419 non-null  int64         \n",
      " 1   attempt_id              21419 non-null  int64         \n",
      " 2   started_at              21419 non-null  object        \n",
      " 3   status                  21419 non-null  object        \n",
      " 4   no_of_questions         21419 non-null  int64         \n",
      " 5   question_attempted      21419 non-null  int64         \n",
      " 6   date_joined             21419 non-null  datetime64[ns]\n",
      " 7   date_of_first_purhcase  19997 non-null  datetime64[ns]\n",
      " 8   Paid_flag               21419 non-null  object        \n",
      "dtypes: datetime64[ns](2), int64(4), object(3)\n",
      "memory usage: 1.6+ MB\n"
     ]
    }
   ],
   "source": [
    "Quiz1.info()"
   ]
  },
  {
   "cell_type": "code",
   "execution_count": 102,
   "metadata": {},
   "outputs": [],
   "source": [
    "#Joining Purchase with Study_Card dataframe\n",
    "\n",
    "Study_Card1=Study_Card.merge(Purchase, on = ['user_id'], how = 'inner')"
   ]
  },
  {
   "cell_type": "code",
   "execution_count": 103,
   "metadata": {},
   "outputs": [
    {
     "name": "stdout",
     "output_type": "stream",
     "text": [
      "<class 'pandas.core.frame.DataFrame'>\n",
      "Int64Index: 3480 entries, 0 to 3479\n",
      "Data columns (total 6 columns):\n",
      " #   Column                  Non-Null Count  Dtype         \n",
      "---  ------                  --------------  -----         \n",
      " 0   user_id                 3480 non-null   int64         \n",
      " 1   activity_id             3480 non-null   int64         \n",
      " 2   start_time              3480 non-null   object        \n",
      " 3   date_joined             3480 non-null   datetime64[ns]\n",
      " 4   date_of_first_purhcase  3325 non-null   datetime64[ns]\n",
      " 5   Paid_flag               3480 non-null   object        \n",
      "dtypes: datetime64[ns](2), int64(2), object(2)\n",
      "memory usage: 190.3+ KB\n"
     ]
    }
   ],
   "source": [
    "Study_Card1.info()"
   ]
  },
  {
   "cell_type": "code",
   "execution_count": 104,
   "metadata": {},
   "outputs": [],
   "source": [
    "#Joining Purchase with Video_activity dataframe\n",
    "\n",
    "Video_activity1=Video_activity.merge(Purchase, on = ['user_id'], how = 'inner')"
   ]
  },
  {
   "cell_type": "code",
   "execution_count": 105,
   "metadata": {},
   "outputs": [
    {
     "data": {
      "text/html": [
       "<div>\n",
       "<style scoped>\n",
       "    .dataframe tbody tr th:only-of-type {\n",
       "        vertical-align: middle;\n",
       "    }\n",
       "\n",
       "    .dataframe tbody tr th {\n",
       "        vertical-align: top;\n",
       "    }\n",
       "\n",
       "    .dataframe thead th {\n",
       "        text-align: right;\n",
       "    }\n",
       "</style>\n",
       "<table border=\"1\" class=\"dataframe\">\n",
       "  <thead>\n",
       "    <tr style=\"text-align: right;\">\n",
       "      <th></th>\n",
       "      <th>user_id</th>\n",
       "      <th>watch_instance_id</th>\n",
       "      <th>watched_at</th>\n",
       "      <th>video_id</th>\n",
       "      <th>duration</th>\n",
       "      <th>watched_duration</th>\n",
       "      <th>date_joined</th>\n",
       "      <th>date_of_first_purhcase</th>\n",
       "      <th>Paid_flag</th>\n",
       "    </tr>\n",
       "  </thead>\n",
       "  <tbody>\n",
       "    <tr>\n",
       "      <th>0</th>\n",
       "      <td>6</td>\n",
       "      <td>24552452</td>\n",
       "      <td>2021-06-12 18:13:40.347392+00:00</td>\n",
       "      <td>25261</td>\n",
       "      <td>934</td>\n",
       "      <td>2</td>\n",
       "      <td>2021-06-04</td>\n",
       "      <td>2021-06-04</td>\n",
       "      <td>Paid</td>\n",
       "    </tr>\n",
       "    <tr>\n",
       "      <th>1</th>\n",
       "      <td>6</td>\n",
       "      <td>24552735</td>\n",
       "      <td>2021-06-12 18:21:45.362998+00:00</td>\n",
       "      <td>25262</td>\n",
       "      <td>398</td>\n",
       "      <td>398</td>\n",
       "      <td>2021-06-04</td>\n",
       "      <td>2021-06-04</td>\n",
       "      <td>Paid</td>\n",
       "    </tr>\n",
       "    <tr>\n",
       "      <th>2</th>\n",
       "      <td>6</td>\n",
       "      <td>24011079</td>\n",
       "      <td>2021-06-04 18:27:01.296468+00:00</td>\n",
       "      <td>24920</td>\n",
       "      <td>1589</td>\n",
       "      <td>55</td>\n",
       "      <td>2021-06-04</td>\n",
       "      <td>2021-06-04</td>\n",
       "      <td>Paid</td>\n",
       "    </tr>\n",
       "    <tr>\n",
       "      <th>3</th>\n",
       "      <td>6</td>\n",
       "      <td>24011800</td>\n",
       "      <td>2021-06-04 18:51:27.450857+00:00</td>\n",
       "      <td>24531</td>\n",
       "      <td>319</td>\n",
       "      <td>28</td>\n",
       "      <td>2021-06-04</td>\n",
       "      <td>2021-06-04</td>\n",
       "      <td>Paid</td>\n",
       "    </tr>\n",
       "    <tr>\n",
       "      <th>4</th>\n",
       "      <td>6</td>\n",
       "      <td>24249571</td>\n",
       "      <td>2021-06-08 11:19:02.187747+00:00</td>\n",
       "      <td>32825</td>\n",
       "      <td>317</td>\n",
       "      <td>15</td>\n",
       "      <td>2021-06-04</td>\n",
       "      <td>2021-06-04</td>\n",
       "      <td>Paid</td>\n",
       "    </tr>\n",
       "    <tr>\n",
       "      <th>...</th>\n",
       "      <td>...</td>\n",
       "      <td>...</td>\n",
       "      <td>...</td>\n",
       "      <td>...</td>\n",
       "      <td>...</td>\n",
       "      <td>...</td>\n",
       "      <td>...</td>\n",
       "      <td>...</td>\n",
       "      <td>...</td>\n",
       "    </tr>\n",
       "    <tr>\n",
       "      <th>12902</th>\n",
       "      <td>404095</td>\n",
       "      <td>27403959</td>\n",
       "      <td>2021-08-02 13:29:09.039679+00:00</td>\n",
       "      <td>31593</td>\n",
       "      <td>1032</td>\n",
       "      <td>1032</td>\n",
       "      <td>2021-08-02</td>\n",
       "      <td>2021-08-01</td>\n",
       "      <td>Paid</td>\n",
       "    </tr>\n",
       "    <tr>\n",
       "      <th>12903</th>\n",
       "      <td>404277</td>\n",
       "      <td>27396584</td>\n",
       "      <td>2021-08-02 11:08:07.956509+00:00</td>\n",
       "      <td>24108</td>\n",
       "      <td>0</td>\n",
       "      <td>163</td>\n",
       "      <td>2021-08-02</td>\n",
       "      <td>2021-08-02</td>\n",
       "      <td>Paid</td>\n",
       "    </tr>\n",
       "    <tr>\n",
       "      <th>12904</th>\n",
       "      <td>404277</td>\n",
       "      <td>27398055</td>\n",
       "      <td>2021-08-02 11:34:59.985140+00:00</td>\n",
       "      <td>31592</td>\n",
       "      <td>369</td>\n",
       "      <td>264</td>\n",
       "      <td>2021-08-02</td>\n",
       "      <td>2021-08-02</td>\n",
       "      <td>Paid</td>\n",
       "    </tr>\n",
       "    <tr>\n",
       "      <th>12905</th>\n",
       "      <td>404290</td>\n",
       "      <td>27396361</td>\n",
       "      <td>2021-08-02 11:03:56.765507+00:00</td>\n",
       "      <td>13609</td>\n",
       "      <td>59</td>\n",
       "      <td>47</td>\n",
       "      <td>2021-08-02</td>\n",
       "      <td>NaT</td>\n",
       "      <td>Unpaid</td>\n",
       "    </tr>\n",
       "    <tr>\n",
       "      <th>12906</th>\n",
       "      <td>404290</td>\n",
       "      <td>27396391</td>\n",
       "      <td>2021-08-02 11:04:19.295042+00:00</td>\n",
       "      <td>13610</td>\n",
       "      <td>614</td>\n",
       "      <td>21</td>\n",
       "      <td>2021-08-02</td>\n",
       "      <td>NaT</td>\n",
       "      <td>Unpaid</td>\n",
       "    </tr>\n",
       "  </tbody>\n",
       "</table>\n",
       "<p>12907 rows × 9 columns</p>\n",
       "</div>"
      ],
      "text/plain": [
       "       user_id  watch_instance_id                        watched_at  video_id  \\\n",
       "0            6           24552452  2021-06-12 18:13:40.347392+00:00     25261   \n",
       "1            6           24552735  2021-06-12 18:21:45.362998+00:00     25262   \n",
       "2            6           24011079  2021-06-04 18:27:01.296468+00:00     24920   \n",
       "3            6           24011800  2021-06-04 18:51:27.450857+00:00     24531   \n",
       "4            6           24249571  2021-06-08 11:19:02.187747+00:00     32825   \n",
       "...        ...                ...                               ...       ...   \n",
       "12902   404095           27403959  2021-08-02 13:29:09.039679+00:00     31593   \n",
       "12903   404277           27396584  2021-08-02 11:08:07.956509+00:00     24108   \n",
       "12904   404277           27398055  2021-08-02 11:34:59.985140+00:00     31592   \n",
       "12905   404290           27396361  2021-08-02 11:03:56.765507+00:00     13609   \n",
       "12906   404290           27396391  2021-08-02 11:04:19.295042+00:00     13610   \n",
       "\n",
       "       duration  watched_duration date_joined date_of_first_purhcase Paid_flag  \n",
       "0           934                 2  2021-06-04             2021-06-04      Paid  \n",
       "1           398               398  2021-06-04             2021-06-04      Paid  \n",
       "2          1589                55  2021-06-04             2021-06-04      Paid  \n",
       "3           319                28  2021-06-04             2021-06-04      Paid  \n",
       "4           317                15  2021-06-04             2021-06-04      Paid  \n",
       "...         ...               ...         ...                    ...       ...  \n",
       "12902      1032              1032  2021-08-02             2021-08-01      Paid  \n",
       "12903         0               163  2021-08-02             2021-08-02      Paid  \n",
       "12904       369               264  2021-08-02             2021-08-02      Paid  \n",
       "12905        59                47  2021-08-02                    NaT    Unpaid  \n",
       "12906       614                21  2021-08-02                    NaT    Unpaid  \n",
       "\n",
       "[12907 rows x 9 columns]"
      ]
     },
     "execution_count": 105,
     "metadata": {},
     "output_type": "execute_result"
    }
   ],
   "source": [
    "Video_activity1"
   ]
  },
  {
   "cell_type": "markdown",
   "metadata": {},
   "source": [
    "#### Paid vs Unpaid - Difference in behaviour in the first week"
   ]
  },
  {
   "cell_type": "markdown",
   "metadata": {},
   "source": [
    "# Track Subscription Analysis"
   ]
  },
  {
   "cell_type": "code",
   "execution_count": 106,
   "metadata": {},
   "outputs": [
    {
     "data": {
      "text/plain": [
       "<AxesSubplot:xlabel='Paid_flag', ylabel='count'>"
      ]
     },
     "execution_count": 106,
     "metadata": {},
     "output_type": "execute_result"
    },
    {
     "data": {
      "image/png": "[encoded data removed]",
      "text/plain": [
       "<Figure size 432x288 with 1 Axes>"
      ]
     },
     "metadata": {
      "needs_background": "light"
     },
     "output_type": "display_data"
    }
   ],
   "source": [
    "sns.countplot(Track_sub1['Paid_flag'])"
   ]
  },
  {
   "cell_type": "markdown",
   "metadata": {},
   "source": [
    "Paid customers have more number of subscriptions"
   ]
  },
  {
   "cell_type": "code",
   "execution_count": 107,
   "metadata": {},
   "outputs": [
    {
     "data": {
      "text/plain": [
       "Text(0.5, 1.0, 'Tracks v/s Paid_flag')"
      ]
     },
     "execution_count": 107,
     "metadata": {},
     "output_type": "execute_result"
    },
    {
     "data": {
      "image/png": "[encoded data removed]",
      "text/plain": [
       "<Figure size 1296x360 with 1 Axes>"
      ]
     },
     "metadata": {
      "needs_background": "light"
     },
     "output_type": "display_data"
    }
   ],
   "source": [
    "#see which track is having more users among paid and unpaid\n",
    "plt.figure(figsize = (18,5))\n",
    "sns.countplot(x='track_slug', hue='Paid_flag', data= Track_sub1).tick_params(axis='x', rotation = 90)\n",
    "plt.title('Tracks v/s Paid_flag')"
   ]
  },
  {
   "cell_type": "markdown",
   "metadata": {},
   "source": [
    "Spoken_Eng_Hindi is most popular among paid users and spoken enlish is popular among Unpaid"
   ]
  },
  {
   "cell_type": "code",
   "execution_count": 108,
   "metadata": {},
   "outputs": [
    {
     "data": {
      "text/plain": [
       "Text(0.5, 1.0, 'Tracks ')"
      ]
     },
     "execution_count": 108,
     "metadata": {},
     "output_type": "execute_result"
    },
    {
     "data": {
      "image/png": "[encoded data removed]",
      "text/plain": [
       "<Figure size 1296x360 with 1 Axes>"
      ]
     },
     "metadata": {
      "needs_background": "light"
     },
     "output_type": "display_data"
    }
   ],
   "source": [
    "#Find most popular course among all users\n",
    "plt.figure(figsize = (18,5))\n",
    "sns.countplot(x='track_slug', data= Track_sub1).tick_params(axis='x', rotation = 90)\n",
    "plt.title('Tracks ')"
   ]
  },
  {
   "cell_type": "markdown",
   "metadata": {},
   "source": [
    "Spoken_eng_hindi is most popular"
   ]
  },
  {
   "cell_type": "markdown",
   "metadata": {},
   "source": [
    "# Quiz Data Analysis"
   ]
  },
  {
   "cell_type": "code",
   "execution_count": 109,
   "metadata": {},
   "outputs": [
    {
     "name": "stdout",
     "output_type": "stream",
     "text": [
      "<class 'pandas.core.frame.DataFrame'>\n",
      "Int64Index: 21419 entries, 0 to 21418\n",
      "Data columns (total 9 columns):\n",
      " #   Column                  Non-Null Count  Dtype         \n",
      "---  ------                  --------------  -----         \n",
      " 0   user_id                 21419 non-null  int64         \n",
      " 1   attempt_id              21419 non-null  int64         \n",
      " 2   started_at              21419 non-null  object        \n",
      " 3   status                  21419 non-null  object        \n",
      " 4   no_of_questions         21419 non-null  int64         \n",
      " 5   question_attempted      21419 non-null  int64         \n",
      " 6   date_joined             21419 non-null  datetime64[ns]\n",
      " 7   date_of_first_purhcase  19997 non-null  datetime64[ns]\n",
      " 8   Paid_flag               21419 non-null  object        \n",
      "dtypes: datetime64[ns](2), int64(4), object(3)\n",
      "memory usage: 1.6+ MB\n"
     ]
    }
   ],
   "source": [
    "Quiz1.info()"
   ]
  },
  {
   "cell_type": "code",
   "execution_count": 110,
   "metadata": {},
   "outputs": [
    {
     "data": {
      "text/html": [
       "<div>\n",
       "<style scoped>\n",
       "    .dataframe tbody tr th:only-of-type {\n",
       "        vertical-align: middle;\n",
       "    }\n",
       "\n",
       "    .dataframe tbody tr th {\n",
       "        vertical-align: top;\n",
       "    }\n",
       "\n",
       "    .dataframe thead th {\n",
       "        text-align: right;\n",
       "    }\n",
       "</style>\n",
       "<table border=\"1\" class=\"dataframe\">\n",
       "  <thead>\n",
       "    <tr style=\"text-align: right;\">\n",
       "      <th></th>\n",
       "      <th>user_id</th>\n",
       "      <th>attempt_id</th>\n",
       "      <th>started_at</th>\n",
       "      <th>status</th>\n",
       "      <th>no_of_questions</th>\n",
       "      <th>question_attempted</th>\n",
       "      <th>date_joined</th>\n",
       "      <th>date_of_first_purhcase</th>\n",
       "      <th>Paid_flag</th>\n",
       "    </tr>\n",
       "  </thead>\n",
       "  <tbody>\n",
       "    <tr>\n",
       "      <th>0</th>\n",
       "      <td>1506</td>\n",
       "      <td>50839743</td>\n",
       "      <td>None</td>\n",
       "      <td>CREATE</td>\n",
       "      <td>10</td>\n",
       "      <td>0</td>\n",
       "      <td>2021-06-04</td>\n",
       "      <td>NaT</td>\n",
       "      <td>Unpaid</td>\n",
       "    </tr>\n",
       "    <tr>\n",
       "      <th>1</th>\n",
       "      <td>1506</td>\n",
       "      <td>50839752</td>\n",
       "      <td>None</td>\n",
       "      <td>PAUSE</td>\n",
       "      <td>10</td>\n",
       "      <td>10</td>\n",
       "      <td>2021-06-04</td>\n",
       "      <td>NaT</td>\n",
       "      <td>Unpaid</td>\n",
       "    </tr>\n",
       "    <tr>\n",
       "      <th>2</th>\n",
       "      <td>1642</td>\n",
       "      <td>50842794</td>\n",
       "      <td>2021-06-04 16:52:25.634573+00:00</td>\n",
       "      <td>COMPLETE</td>\n",
       "      <td>10</td>\n",
       "      <td>10</td>\n",
       "      <td>2021-06-04</td>\n",
       "      <td>2021-06-04</td>\n",
       "      <td>Paid</td>\n",
       "    </tr>\n",
       "    <tr>\n",
       "      <th>3</th>\n",
       "      <td>1642</td>\n",
       "      <td>50843057</td>\n",
       "      <td>2021-06-04 16:55:37.917805+00:00</td>\n",
       "      <td>COMPLETE</td>\n",
       "      <td>10</td>\n",
       "      <td>10</td>\n",
       "      <td>2021-06-04</td>\n",
       "      <td>2021-06-04</td>\n",
       "      <td>Paid</td>\n",
       "    </tr>\n",
       "    <tr>\n",
       "      <th>4</th>\n",
       "      <td>1642</td>\n",
       "      <td>50843164</td>\n",
       "      <td>None</td>\n",
       "      <td>CREATE</td>\n",
       "      <td>10</td>\n",
       "      <td>0</td>\n",
       "      <td>2021-06-04</td>\n",
       "      <td>2021-06-04</td>\n",
       "      <td>Paid</td>\n",
       "    </tr>\n",
       "  </tbody>\n",
       "</table>\n",
       "</div>"
      ],
      "text/plain": [
       "   user_id  attempt_id                        started_at    status  \\\n",
       "0     1506    50839743                              None    CREATE   \n",
       "1     1506    50839752                              None     PAUSE   \n",
       "2     1642    50842794  2021-06-04 16:52:25.634573+00:00  COMPLETE   \n",
       "3     1642    50843057  2021-06-04 16:55:37.917805+00:00  COMPLETE   \n",
       "4     1642    50843164                              None    CREATE   \n",
       "\n",
       "   no_of_questions  question_attempted date_joined date_of_first_purhcase  \\\n",
       "0               10                   0  2021-06-04                    NaT   \n",
       "1               10                  10  2021-06-04                    NaT   \n",
       "2               10                  10  2021-06-04             2021-06-04   \n",
       "3               10                  10  2021-06-04             2021-06-04   \n",
       "4               10                   0  2021-06-04             2021-06-04   \n",
       "\n",
       "  Paid_flag  \n",
       "0    Unpaid  \n",
       "1    Unpaid  \n",
       "2      Paid  \n",
       "3      Paid  \n",
       "4      Paid  "
      ]
     },
     "execution_count": 110,
     "metadata": {},
     "output_type": "execute_result"
    }
   ],
   "source": [
    "Quiz1.head()"
   ]
  },
  {
   "cell_type": "code",
   "execution_count": 111,
   "metadata": {},
   "outputs": [
    {
     "data": {
      "text/html": [
       "<div>\n",
       "<style scoped>\n",
       "    .dataframe tbody tr th:only-of-type {\n",
       "        vertical-align: middle;\n",
       "    }\n",
       "\n",
       "    .dataframe tbody tr th {\n",
       "        vertical-align: top;\n",
       "    }\n",
       "\n",
       "    .dataframe thead th {\n",
       "        text-align: right;\n",
       "    }\n",
       "</style>\n",
       "<table border=\"1\" class=\"dataframe\">\n",
       "  <thead>\n",
       "    <tr style=\"text-align: right;\">\n",
       "      <th></th>\n",
       "      <th>user_id</th>\n",
       "      <th>attempt_id</th>\n",
       "      <th>started_at</th>\n",
       "      <th>status</th>\n",
       "      <th>no_of_questions</th>\n",
       "      <th>question_attempted</th>\n",
       "      <th>date_joined</th>\n",
       "      <th>date_of_first_purhcase</th>\n",
       "      <th>Paid_flag</th>\n",
       "    </tr>\n",
       "  </thead>\n",
       "  <tbody>\n",
       "    <tr>\n",
       "      <th>0</th>\n",
       "      <td>1506</td>\n",
       "      <td>50839743</td>\n",
       "      <td>NaT</td>\n",
       "      <td>CREATE</td>\n",
       "      <td>10</td>\n",
       "      <td>0</td>\n",
       "      <td>2021-06-04</td>\n",
       "      <td>NaT</td>\n",
       "      <td>Unpaid</td>\n",
       "    </tr>\n",
       "    <tr>\n",
       "      <th>1</th>\n",
       "      <td>1506</td>\n",
       "      <td>50839752</td>\n",
       "      <td>NaT</td>\n",
       "      <td>PAUSE</td>\n",
       "      <td>10</td>\n",
       "      <td>10</td>\n",
       "      <td>2021-06-04</td>\n",
       "      <td>NaT</td>\n",
       "      <td>Unpaid</td>\n",
       "    </tr>\n",
       "    <tr>\n",
       "      <th>2</th>\n",
       "      <td>1642</td>\n",
       "      <td>50842794</td>\n",
       "      <td>2021-06-04</td>\n",
       "      <td>COMPLETE</td>\n",
       "      <td>10</td>\n",
       "      <td>10</td>\n",
       "      <td>2021-06-04</td>\n",
       "      <td>2021-06-04</td>\n",
       "      <td>Paid</td>\n",
       "    </tr>\n",
       "    <tr>\n",
       "      <th>3</th>\n",
       "      <td>1642</td>\n",
       "      <td>50843057</td>\n",
       "      <td>2021-06-04</td>\n",
       "      <td>COMPLETE</td>\n",
       "      <td>10</td>\n",
       "      <td>10</td>\n",
       "      <td>2021-06-04</td>\n",
       "      <td>2021-06-04</td>\n",
       "      <td>Paid</td>\n",
       "    </tr>\n",
       "    <tr>\n",
       "      <th>4</th>\n",
       "      <td>1642</td>\n",
       "      <td>50843164</td>\n",
       "      <td>NaT</td>\n",
       "      <td>CREATE</td>\n",
       "      <td>10</td>\n",
       "      <td>0</td>\n",
       "      <td>2021-06-04</td>\n",
       "      <td>2021-06-04</td>\n",
       "      <td>Paid</td>\n",
       "    </tr>\n",
       "    <tr>\n",
       "      <th>...</th>\n",
       "      <td>...</td>\n",
       "      <td>...</td>\n",
       "      <td>...</td>\n",
       "      <td>...</td>\n",
       "      <td>...</td>\n",
       "      <td>...</td>\n",
       "      <td>...</td>\n",
       "      <td>...</td>\n",
       "      <td>...</td>\n",
       "    </tr>\n",
       "    <tr>\n",
       "      <th>21414</th>\n",
       "      <td>395414</td>\n",
       "      <td>55869647</td>\n",
       "      <td>NaT</td>\n",
       "      <td>PAUSE</td>\n",
       "      <td>5</td>\n",
       "      <td>5</td>\n",
       "      <td>2021-07-31</td>\n",
       "      <td>2021-08-01</td>\n",
       "      <td>Paid</td>\n",
       "    </tr>\n",
       "    <tr>\n",
       "      <th>21415</th>\n",
       "      <td>395414</td>\n",
       "      <td>55870723</td>\n",
       "      <td>2021-08-03</td>\n",
       "      <td>COMPLETE</td>\n",
       "      <td>5</td>\n",
       "      <td>5</td>\n",
       "      <td>2021-07-31</td>\n",
       "      <td>2021-08-01</td>\n",
       "      <td>Paid</td>\n",
       "    </tr>\n",
       "    <tr>\n",
       "      <th>21416</th>\n",
       "      <td>395414</td>\n",
       "      <td>55870950</td>\n",
       "      <td>NaT</td>\n",
       "      <td>CREATE</td>\n",
       "      <td>5</td>\n",
       "      <td>0</td>\n",
       "      <td>2021-07-31</td>\n",
       "      <td>2021-08-01</td>\n",
       "      <td>Paid</td>\n",
       "    </tr>\n",
       "    <tr>\n",
       "      <th>21417</th>\n",
       "      <td>157791</td>\n",
       "      <td>55877698</td>\n",
       "      <td>2021-08-03</td>\n",
       "      <td>COMPLETE</td>\n",
       "      <td>10</td>\n",
       "      <td>10</td>\n",
       "      <td>2021-06-25</td>\n",
       "      <td>2021-06-25</td>\n",
       "      <td>Paid</td>\n",
       "    </tr>\n",
       "    <tr>\n",
       "      <th>21418</th>\n",
       "      <td>157791</td>\n",
       "      <td>55877801</td>\n",
       "      <td>NaT</td>\n",
       "      <td>CREATE</td>\n",
       "      <td>10</td>\n",
       "      <td>0</td>\n",
       "      <td>2021-06-25</td>\n",
       "      <td>2021-06-25</td>\n",
       "      <td>Paid</td>\n",
       "    </tr>\n",
       "  </tbody>\n",
       "</table>\n",
       "<p>21419 rows × 9 columns</p>\n",
       "</div>"
      ],
      "text/plain": [
       "       user_id  attempt_id started_at    status  no_of_questions  \\\n",
       "0         1506    50839743        NaT    CREATE               10   \n",
       "1         1506    50839752        NaT     PAUSE               10   \n",
       "2         1642    50842794 2021-06-04  COMPLETE               10   \n",
       "3         1642    50843057 2021-06-04  COMPLETE               10   \n",
       "4         1642    50843164        NaT    CREATE               10   \n",
       "...        ...         ...        ...       ...              ...   \n",
       "21414   395414    55869647        NaT     PAUSE                5   \n",
       "21415   395414    55870723 2021-08-03  COMPLETE                5   \n",
       "21416   395414    55870950        NaT    CREATE                5   \n",
       "21417   157791    55877698 2021-08-03  COMPLETE               10   \n",
       "21418   157791    55877801        NaT    CREATE               10   \n",
       "\n",
       "       question_attempted date_joined date_of_first_purhcase Paid_flag  \n",
       "0                       0  2021-06-04                    NaT    Unpaid  \n",
       "1                      10  2021-06-04                    NaT    Unpaid  \n",
       "2                      10  2021-06-04             2021-06-04      Paid  \n",
       "3                      10  2021-06-04             2021-06-04      Paid  \n",
       "4                       0  2021-06-04             2021-06-04      Paid  \n",
       "...                   ...         ...                    ...       ...  \n",
       "21414                   5  2021-07-31             2021-08-01      Paid  \n",
       "21415                   5  2021-07-31             2021-08-01      Paid  \n",
       "21416                   0  2021-07-31             2021-08-01      Paid  \n",
       "21417                  10  2021-06-25             2021-06-25      Paid  \n",
       "21418                   0  2021-06-25             2021-06-25      Paid  \n",
       "\n",
       "[21419 rows x 9 columns]"
      ]
     },
     "execution_count": 111,
     "metadata": {},
     "output_type": "execute_result"
    }
   ],
   "source": [
    "#convert type of column started_at to datetime and replace None with NaN\n",
    "Quiz1['started_at'] = Quiz1['started_at'].str.split(' ', 1).str[0].str.strip()\n",
    "Quiz1.replace(to_replace='None', value=np.nan, inplace=True)\n",
    "Quiz1['started_at']=pd.to_datetime(Quiz1['started_at'])\n",
    "\n",
    "\n",
    "\n",
    "Quiz1\n"
   ]
  },
  {
   "cell_type": "code",
   "execution_count": 112,
   "metadata": {},
   "outputs": [
    {
     "data": {
      "text/plain": [
       "Text(0.5, 1.0, 'Difference in days for a user to attempt a quiz from date they joined')"
      ]
     },
     "execution_count": 112,
     "metadata": {},
     "output_type": "execute_result"
    },
    {
     "data": {
      "image/png": "[encoded data removed]",
      "text/plain": [
       "<Figure size 1296x360 with 1 Axes>"
      ]
     },
     "metadata": {
      "needs_background": "light"
     },
     "output_type": "display_data"
    }
   ],
   "source": [
    "#Understand how many days it is taking for a user to attempt a quiz from the joining date\n",
    "Quiz1['diff']=(Quiz1['started_at']-Quiz1['date_joined'])/np.timedelta64(1,'D')\n",
    "plt.figure(figsize = (18,5))\n",
    "sns.countplot(x='diff', hue='Paid_flag', data= Quiz1).tick_params(axis='x', rotation = 90)\n",
    "plt.title('Difference in days for a user to attempt a quiz from date they joined')"
   ]
  },
  {
   "cell_type": "markdown",
   "metadata": {},
   "source": [
    "Most of users attemt quiz on their initials days of joining.They attempt more on first day"
   ]
  },
  {
   "cell_type": "code",
   "execution_count": null,
   "metadata": {},
   "outputs": [],
   "source": []
  },
  {
   "cell_type": "code",
   "execution_count": 113,
   "metadata": {},
   "outputs": [
    {
     "data": {
      "text/plain": [
       "<AxesSubplot:xlabel='Paid_flag', ylabel='count'>"
      ]
     },
     "execution_count": 113,
     "metadata": {},
     "output_type": "execute_result"
    },
    {
     "data": {
      "image/png": "[encoded data removed]",
      "text/plain": [
       "<Figure size 432x288 with 1 Axes>"
      ]
     },
     "metadata": {
      "needs_background": "light"
     },
     "output_type": "display_data"
    }
   ],
   "source": [
    "#Find which type user is attempting more number of Quiz\n",
    "sns.countplot(Quiz1['Paid_flag'])"
   ]
  },
  {
   "cell_type": "markdown",
   "metadata": {},
   "source": [
    "Paid customers seems to attempt more Quiz"
   ]
  },
  {
   "cell_type": "code",
   "execution_count": null,
   "metadata": {},
   "outputs": [],
   "source": []
  },
  {
   "cell_type": "code",
   "execution_count": 114,
   "metadata": {},
   "outputs": [
    {
     "data": {
      "text/plain": [
       "<AxesSubplot:xlabel='status', ylabel='count'>"
      ]
     },
     "execution_count": 114,
     "metadata": {},
     "output_type": "execute_result"
    },
    {
     "data": {
      "image/png": "[encoded data removed]",
      "text/plain": [
       "<Figure size 432x288 with 1 Axes>"
      ]
     },
     "metadata": {
      "needs_background": "light"
     },
     "output_type": "display_data"
    }
   ],
   "source": [
    "#Find which status is more\n",
    "sns.countplot(Quiz1['status'])"
   ]
  },
  {
   "cell_type": "markdown",
   "metadata": {},
   "source": [
    "Most of users try to complete the quiz.Only very less users have status Progress\n"
   ]
  },
  {
   "cell_type": "code",
   "execution_count": 115,
   "metadata": {},
   "outputs": [
    {
     "data": {
      "text/plain": [
       "Text(0.5, 1.0, 'Status v/s Paid_flag')"
      ]
     },
     "execution_count": 115,
     "metadata": {},
     "output_type": "execute_result"
    },
    {
     "data": {
      "image/png": "[encoded data removed]",
      "text/plain": [
       "<Figure size 1296x360 with 1 Axes>"
      ]
     },
     "metadata": {
      "needs_background": "light"
     },
     "output_type": "display_data"
    }
   ],
   "source": [
    "#see the status count for paid and unpaid\n",
    "plt.figure(figsize = (18,5))\n",
    "sns.countplot(x='status', hue='Paid_flag', data= Quiz1).tick_params(axis='x', rotation = 90)\n",
    "plt.title('Status v/s Paid_flag')"
   ]
  },
  {
   "cell_type": "markdown",
   "metadata": {},
   "source": [
    "most of Paid and Unpaid users tends to complete the quiz"
   ]
  },
  {
   "cell_type": "code",
   "execution_count": 116,
   "metadata": {},
   "outputs": [
    {
     "name": "stdout",
     "output_type": "stream",
     "text": [
      "<class 'pandas.core.frame.DataFrame'>\n",
      "Int64Index: 21419 entries, 0 to 21418\n",
      "Data columns (total 10 columns):\n",
      " #   Column                  Non-Null Count  Dtype         \n",
      "---  ------                  --------------  -----         \n",
      " 0   user_id                 21419 non-null  int64         \n",
      " 1   attempt_id              21419 non-null  int64         \n",
      " 2   started_at              13548 non-null  datetime64[ns]\n",
      " 3   status                  21419 non-null  object        \n",
      " 4   no_of_questions         21419 non-null  int64         \n",
      " 5   question_attempted      21419 non-null  int64         \n",
      " 6   date_joined             21419 non-null  datetime64[ns]\n",
      " 7   date_of_first_purhcase  19997 non-null  datetime64[ns]\n",
      " 8   Paid_flag               21419 non-null  object        \n",
      " 9   diff                    13548 non-null  float64       \n",
      "dtypes: datetime64[ns](3), float64(1), int64(4), object(2)\n",
      "memory usage: 2.4+ MB\n"
     ]
    }
   ],
   "source": [
    "Quiz1.info()"
   ]
  },
  {
   "cell_type": "markdown",
   "metadata": {},
   "source": [
    "Split the Dataframe to 2 dataframe for paid and Unpaid"
   ]
  },
  {
   "cell_type": "code",
   "execution_count": 117,
   "metadata": {},
   "outputs": [],
   "source": [
    "Quiz1_Paid=Quiz1[Quiz1.Paid_flag=='Paid']"
   ]
  },
  {
   "cell_type": "code",
   "execution_count": 118,
   "metadata": {},
   "outputs": [],
   "source": [
    "Quiz1_Unpaid=Quiz1[Quiz1.Paid_flag=='Unpaid']"
   ]
  },
  {
   "cell_type": "code",
   "execution_count": 119,
   "metadata": {},
   "outputs": [
    {
     "data": {
      "image/png": "[encoded data removed]",
      "text/plain": [
       "<Figure size 1080x360 with 2 Axes>"
      ]
     },
     "metadata": {
      "needs_background": "light"
     },
     "output_type": "display_data"
    }
   ],
   "source": [
    "#Find Distribution of Questions attemted for Both users\n",
    "plt.figure(figsize=(15,5))\n",
    "\n",
    "plt.subplot(1, 2, 1)\n",
    "Quiz1_Paid['no_of_questions'].plot.hist(bins=range(15))\n",
    "plt.title('Distribution of questons attempted for Paid',fontsize=15)\n",
    "plt.xlabel('no_of_Questions')\n",
    "plt.ylabel('Questions COUNT')\n",
    "\n",
    "plt.subplot(1, 2, 2)\n",
    "Quiz1_Unpaid['no_of_questions'].plot.hist(bins=range(15))\n",
    "plt.title('Distribution of  questons attempted for Unpaid',fontsize=15)\n",
    "plt.xlabel('no_of_Questions')\n",
    "plt.ylabel('Questions COUNT')\n",
    "\n",
    "plt.show()"
   ]
  },
  {
   "cell_type": "markdown",
   "metadata": {},
   "source": [
    "Most of them attempt the Quizes having  total  questions 6 and 10"
   ]
  },
  {
   "cell_type": "code",
   "execution_count": 120,
   "metadata": {},
   "outputs": [
    {
     "data": {
      "text/plain": [
       "100.000000    10745\n",
       "0.000000       6839\n",
       "90.000000       216\n",
       "83.333333       168\n",
       "80.000000       154\n",
       "              ...  \n",
       "53.846154         1\n",
       "61.538462         1\n",
       "70.833333         1\n",
       "67.500000         1\n",
       "37.777778         1\n",
       "Length: 267, dtype: int64"
      ]
     },
     "execution_count": 120,
     "metadata": {},
     "output_type": "execute_result"
    }
   ],
   "source": [
    "((Quiz1_Paid['question_attempted']/Quiz1_Paid['no_of_questions'])*100).value_counts()"
   ]
  },
  {
   "cell_type": "code",
   "execution_count": 121,
   "metadata": {},
   "outputs": [
    {
     "data": {
      "image/png": "[encoded data removed]",
      "text/plain": [
       "<Figure size 432x288 with 1 Axes>"
      ]
     },
     "metadata": {
      "needs_background": "light"
     },
     "output_type": "display_data"
    }
   ],
   "source": [
    "#See the distribution of percentage of questions attempted for paid and unpaid\n",
    "sns.distplot(((Quiz1_Paid['question_attempted']/Quiz1_Paid['no_of_questions'])*100),hist=False,rug=True,bins=50,color='red')\n",
    "sns.distplot(((Quiz1_Unpaid['question_attempted']/Quiz1_Unpaid['no_of_questions'])*100),hist=False,rug=True,bins=50,color='blue')\n",
    "plt.show()"
   ]
  },
  {
   "cell_type": "markdown",
   "metadata": {},
   "source": [
    "Peaks for both paid and unpaid are at 0 and 100 which means most of them either attempt all questions or not attempt any questions at all"
   ]
  },
  {
   "cell_type": "markdown",
   "metadata": {},
   "source": [
    "# Studycard data Analysis"
   ]
  },
  {
   "cell_type": "code",
   "execution_count": 122,
   "metadata": {},
   "outputs": [
    {
     "name": "stdout",
     "output_type": "stream",
     "text": [
      "<class 'pandas.core.frame.DataFrame'>\n",
      "Int64Index: 3480 entries, 0 to 3479\n",
      "Data columns (total 6 columns):\n",
      " #   Column                  Non-Null Count  Dtype         \n",
      "---  ------                  --------------  -----         \n",
      " 0   user_id                 3480 non-null   int64         \n",
      " 1   activity_id             3480 non-null   int64         \n",
      " 2   start_time              3480 non-null   object        \n",
      " 3   date_joined             3480 non-null   datetime64[ns]\n",
      " 4   date_of_first_purhcase  3325 non-null   datetime64[ns]\n",
      " 5   Paid_flag               3480 non-null   object        \n",
      "dtypes: datetime64[ns](2), int64(2), object(2)\n",
      "memory usage: 190.3+ KB\n"
     ]
    }
   ],
   "source": [
    "Study_Card1.info()"
   ]
  },
  {
   "cell_type": "code",
   "execution_count": 123,
   "metadata": {},
   "outputs": [
    {
     "data": {
      "text/html": [
       "<div>\n",
       "<style scoped>\n",
       "    .dataframe tbody tr th:only-of-type {\n",
       "        vertical-align: middle;\n",
       "    }\n",
       "\n",
       "    .dataframe tbody tr th {\n",
       "        vertical-align: top;\n",
       "    }\n",
       "\n",
       "    .dataframe thead th {\n",
       "        text-align: right;\n",
       "    }\n",
       "</style>\n",
       "<table border=\"1\" class=\"dataframe\">\n",
       "  <thead>\n",
       "    <tr style=\"text-align: right;\">\n",
       "      <th></th>\n",
       "      <th>user_id</th>\n",
       "      <th>activity_id</th>\n",
       "      <th>start_time</th>\n",
       "      <th>date_joined</th>\n",
       "      <th>date_of_first_purhcase</th>\n",
       "      <th>Paid_flag</th>\n",
       "    </tr>\n",
       "  </thead>\n",
       "  <tbody>\n",
       "    <tr>\n",
       "      <th>0</th>\n",
       "      <td>1642</td>\n",
       "      <td>4197126</td>\n",
       "      <td>2021-06-04 16:51:51.454473+00:00</td>\n",
       "      <td>2021-06-04</td>\n",
       "      <td>2021-06-04</td>\n",
       "      <td>Paid</td>\n",
       "    </tr>\n",
       "    <tr>\n",
       "      <th>1</th>\n",
       "      <td>1642</td>\n",
       "      <td>4197075</td>\n",
       "      <td>2021-06-04 16:43:10.115201+00:00</td>\n",
       "      <td>2021-06-04</td>\n",
       "      <td>2021-06-04</td>\n",
       "      <td>Paid</td>\n",
       "    </tr>\n",
       "    <tr>\n",
       "      <th>2</th>\n",
       "      <td>1642</td>\n",
       "      <td>4197074</td>\n",
       "      <td>2021-06-04 16:43:10.082261+00:00</td>\n",
       "      <td>2021-06-04</td>\n",
       "      <td>2021-06-04</td>\n",
       "      <td>Paid</td>\n",
       "    </tr>\n",
       "    <tr>\n",
       "      <th>3</th>\n",
       "      <td>1642</td>\n",
       "      <td>4197577</td>\n",
       "      <td>2021-06-04 18:20:58.487196+00:00</td>\n",
       "      <td>2021-06-04</td>\n",
       "      <td>2021-06-04</td>\n",
       "      <td>Paid</td>\n",
       "    </tr>\n",
       "    <tr>\n",
       "      <th>4</th>\n",
       "      <td>1642</td>\n",
       "      <td>4197174</td>\n",
       "      <td>2021-06-04 16:57:46.487970+00:00</td>\n",
       "      <td>2021-06-04</td>\n",
       "      <td>2021-06-04</td>\n",
       "      <td>Paid</td>\n",
       "    </tr>\n",
       "  </tbody>\n",
       "</table>\n",
       "</div>"
      ],
      "text/plain": [
       "   user_id  activity_id                        start_time date_joined  \\\n",
       "0     1642      4197126  2021-06-04 16:51:51.454473+00:00  2021-06-04   \n",
       "1     1642      4197075  2021-06-04 16:43:10.115201+00:00  2021-06-04   \n",
       "2     1642      4197074  2021-06-04 16:43:10.082261+00:00  2021-06-04   \n",
       "3     1642      4197577  2021-06-04 18:20:58.487196+00:00  2021-06-04   \n",
       "4     1642      4197174  2021-06-04 16:57:46.487970+00:00  2021-06-04   \n",
       "\n",
       "  date_of_first_purhcase Paid_flag  \n",
       "0             2021-06-04      Paid  \n",
       "1             2021-06-04      Paid  \n",
       "2             2021-06-04      Paid  \n",
       "3             2021-06-04      Paid  \n",
       "4             2021-06-04      Paid  "
      ]
     },
     "execution_count": 123,
     "metadata": {},
     "output_type": "execute_result"
    }
   ],
   "source": [
    "Study_Card1.head()"
   ]
  },
  {
   "cell_type": "code",
   "execution_count": 124,
   "metadata": {},
   "outputs": [
    {
     "data": {
      "text/html": [
       "<div>\n",
       "<style scoped>\n",
       "    .dataframe tbody tr th:only-of-type {\n",
       "        vertical-align: middle;\n",
       "    }\n",
       "\n",
       "    .dataframe tbody tr th {\n",
       "        vertical-align: top;\n",
       "    }\n",
       "\n",
       "    .dataframe thead th {\n",
       "        text-align: right;\n",
       "    }\n",
       "</style>\n",
       "<table border=\"1\" class=\"dataframe\">\n",
       "  <thead>\n",
       "    <tr style=\"text-align: right;\">\n",
       "      <th></th>\n",
       "      <th>user_id</th>\n",
       "      <th>activity_id</th>\n",
       "      <th>start_time</th>\n",
       "      <th>date_joined</th>\n",
       "      <th>date_of_first_purhcase</th>\n",
       "      <th>Paid_flag</th>\n",
       "    </tr>\n",
       "  </thead>\n",
       "  <tbody>\n",
       "    <tr>\n",
       "      <th>0</th>\n",
       "      <td>1642</td>\n",
       "      <td>4197126</td>\n",
       "      <td>2021-06-04</td>\n",
       "      <td>2021-06-04</td>\n",
       "      <td>2021-06-04</td>\n",
       "      <td>Paid</td>\n",
       "    </tr>\n",
       "    <tr>\n",
       "      <th>1</th>\n",
       "      <td>1642</td>\n",
       "      <td>4197075</td>\n",
       "      <td>2021-06-04</td>\n",
       "      <td>2021-06-04</td>\n",
       "      <td>2021-06-04</td>\n",
       "      <td>Paid</td>\n",
       "    </tr>\n",
       "    <tr>\n",
       "      <th>2</th>\n",
       "      <td>1642</td>\n",
       "      <td>4197074</td>\n",
       "      <td>2021-06-04</td>\n",
       "      <td>2021-06-04</td>\n",
       "      <td>2021-06-04</td>\n",
       "      <td>Paid</td>\n",
       "    </tr>\n",
       "    <tr>\n",
       "      <th>3</th>\n",
       "      <td>1642</td>\n",
       "      <td>4197577</td>\n",
       "      <td>2021-06-04</td>\n",
       "      <td>2021-06-04</td>\n",
       "      <td>2021-06-04</td>\n",
       "      <td>Paid</td>\n",
       "    </tr>\n",
       "    <tr>\n",
       "      <th>4</th>\n",
       "      <td>1642</td>\n",
       "      <td>4197174</td>\n",
       "      <td>2021-06-04</td>\n",
       "      <td>2021-06-04</td>\n",
       "      <td>2021-06-04</td>\n",
       "      <td>Paid</td>\n",
       "    </tr>\n",
       "    <tr>\n",
       "      <th>...</th>\n",
       "      <td>...</td>\n",
       "      <td>...</td>\n",
       "      <td>...</td>\n",
       "      <td>...</td>\n",
       "      <td>...</td>\n",
       "      <td>...</td>\n",
       "    </tr>\n",
       "    <tr>\n",
       "      <th>3475</th>\n",
       "      <td>404095</td>\n",
       "      <td>4610587</td>\n",
       "      <td>2021-08-03</td>\n",
       "      <td>2021-08-02</td>\n",
       "      <td>2021-08-01</td>\n",
       "      <td>Paid</td>\n",
       "    </tr>\n",
       "    <tr>\n",
       "      <th>3476</th>\n",
       "      <td>404095</td>\n",
       "      <td>4611111</td>\n",
       "      <td>2021-08-03</td>\n",
       "      <td>2021-08-02</td>\n",
       "      <td>2021-08-01</td>\n",
       "      <td>Paid</td>\n",
       "    </tr>\n",
       "    <tr>\n",
       "      <th>3477</th>\n",
       "      <td>404095</td>\n",
       "      <td>4611113</td>\n",
       "      <td>2021-08-03</td>\n",
       "      <td>2021-08-02</td>\n",
       "      <td>2021-08-01</td>\n",
       "      <td>Paid</td>\n",
       "    </tr>\n",
       "    <tr>\n",
       "      <th>3478</th>\n",
       "      <td>404095</td>\n",
       "      <td>4611114</td>\n",
       "      <td>2021-08-03</td>\n",
       "      <td>2021-08-02</td>\n",
       "      <td>2021-08-01</td>\n",
       "      <td>Paid</td>\n",
       "    </tr>\n",
       "    <tr>\n",
       "      <th>3479</th>\n",
       "      <td>404095</td>\n",
       "      <td>4611110</td>\n",
       "      <td>2021-08-03</td>\n",
       "      <td>2021-08-02</td>\n",
       "      <td>2021-08-01</td>\n",
       "      <td>Paid</td>\n",
       "    </tr>\n",
       "  </tbody>\n",
       "</table>\n",
       "<p>3480 rows × 6 columns</p>\n",
       "</div>"
      ],
      "text/plain": [
       "      user_id  activity_id start_time date_joined date_of_first_purhcase  \\\n",
       "0        1642      4197126 2021-06-04  2021-06-04             2021-06-04   \n",
       "1        1642      4197075 2021-06-04  2021-06-04             2021-06-04   \n",
       "2        1642      4197074 2021-06-04  2021-06-04             2021-06-04   \n",
       "3        1642      4197577 2021-06-04  2021-06-04             2021-06-04   \n",
       "4        1642      4197174 2021-06-04  2021-06-04             2021-06-04   \n",
       "...       ...          ...        ...         ...                    ...   \n",
       "3475   404095      4610587 2021-08-03  2021-08-02             2021-08-01   \n",
       "3476   404095      4611111 2021-08-03  2021-08-02             2021-08-01   \n",
       "3477   404095      4611113 2021-08-03  2021-08-02             2021-08-01   \n",
       "3478   404095      4611114 2021-08-03  2021-08-02             2021-08-01   \n",
       "3479   404095      4611110 2021-08-03  2021-08-02             2021-08-01   \n",
       "\n",
       "     Paid_flag  \n",
       "0         Paid  \n",
       "1         Paid  \n",
       "2         Paid  \n",
       "3         Paid  \n",
       "4         Paid  \n",
       "...        ...  \n",
       "3475      Paid  \n",
       "3476      Paid  \n",
       "3477      Paid  \n",
       "3478      Paid  \n",
       "3479      Paid  \n",
       "\n",
       "[3480 rows x 6 columns]"
      ]
     },
     "execution_count": 124,
     "metadata": {},
     "output_type": "execute_result"
    }
   ],
   "source": [
    "#convert type object to datetime\n",
    "Study_Card1['start_time'] = Study_Card1['start_time'].str.split(' ', 1).str[0].str.strip()\n",
    "Study_Card1['start_time']=pd.to_datetime(Study_Card1['start_time'])\n",
    "\n",
    "\n",
    "\n",
    "Study_Card1\n"
   ]
  },
  {
   "cell_type": "code",
   "execution_count": 125,
   "metadata": {},
   "outputs": [
    {
     "data": {
      "text/plain": [
       "Text(0.5, 1.0, 'Difference in days for a user to intereact with studycared from date they joined')"
      ]
     },
     "execution_count": 125,
     "metadata": {},
     "output_type": "execute_result"
    },
    {
     "data": {
      "image/png": "[encoded data removed]",
      "text/plain": [
       "<Figure size 1296x360 with 1 Axes>"
      ]
     },
     "metadata": {
      "needs_background": "light"
     },
     "output_type": "display_data"
    }
   ],
   "source": [
    "#Find how many days it is taking for a user to interact with a studycard from the date they joined\n",
    "Study_Card1['diff']=(Study_Card1['start_time']-Study_Card1['date_joined'])/np.timedelta64(1,'D')\n",
    "plt.figure(figsize = (18,5))\n",
    "sns.countplot(x='diff', hue='Paid_flag', data= Study_Card1).tick_params(axis='x', rotation = 90)\n",
    "plt.title('Difference in days for a user to intereact with studycared from date they joined')"
   ]
  },
  {
   "cell_type": "markdown",
   "metadata": {},
   "source": [
    "Most of them interact with study card on their first day"
   ]
  },
  {
   "cell_type": "code",
   "execution_count": 126,
   "metadata": {},
   "outputs": [
    {
     "data": {
      "text/plain": [
       "<AxesSubplot:xlabel='Paid_flag', ylabel='count'>"
      ]
     },
     "execution_count": 126,
     "metadata": {},
     "output_type": "execute_result"
    },
    {
     "data": {
      "image/png": "[encoded data removed]",
      "text/plain": [
       "<Figure size 432x288 with 1 Axes>"
      ]
     },
     "metadata": {
      "needs_background": "light"
     },
     "output_type": "display_data"
    }
   ],
   "source": [
    "#find who interact with studycard more\n",
    "sns.countplot(Study_Card1['Paid_flag'])"
   ]
  },
  {
   "cell_type": "markdown",
   "metadata": {},
   "source": [
    "Paid ones interact with studycard more"
   ]
  },
  {
   "cell_type": "markdown",
   "metadata": {},
   "source": [
    "# Watched video data Analysis"
   ]
  },
  {
   "cell_type": "code",
   "execution_count": 127,
   "metadata": {},
   "outputs": [
    {
     "name": "stdout",
     "output_type": "stream",
     "text": [
      "<class 'pandas.core.frame.DataFrame'>\n",
      "Int64Index: 12907 entries, 0 to 12906\n",
      "Data columns (total 9 columns):\n",
      " #   Column                  Non-Null Count  Dtype         \n",
      "---  ------                  --------------  -----         \n",
      " 0   user_id                 12907 non-null  int64         \n",
      " 1   watch_instance_id       12907 non-null  int64         \n",
      " 2   watched_at              12907 non-null  object        \n",
      " 3   video_id                12907 non-null  int64         \n",
      " 4   duration                12907 non-null  int64         \n",
      " 5   watched_duration        12907 non-null  int64         \n",
      " 6   date_joined             12907 non-null  datetime64[ns]\n",
      " 7   date_of_first_purhcase  12302 non-null  datetime64[ns]\n",
      " 8   Paid_flag               12907 non-null  object        \n",
      "dtypes: datetime64[ns](2), int64(5), object(2)\n",
      "memory usage: 1008.4+ KB\n"
     ]
    }
   ],
   "source": [
    "Video_activity1.info()"
   ]
  },
  {
   "cell_type": "code",
   "execution_count": 128,
   "metadata": {},
   "outputs": [
    {
     "data": {
      "text/plain": [
       "31592    195\n",
       "Name: video_id, dtype: int64"
      ]
     },
     "execution_count": 128,
     "metadata": {},
     "output_type": "execute_result"
    }
   ],
   "source": [
    "#Most watched video\n",
    "Video_activity1['video_id'].value_counts(ascending=False).head(1)\n"
   ]
  },
  {
   "cell_type": "markdown",
   "metadata": {},
   "source": [
    "video_id 31592 is having higher number of watch"
   ]
  },
  {
   "cell_type": "code",
   "execution_count": 129,
   "metadata": {},
   "outputs": [
    {
     "data": {
      "text/plain": [
       "<AxesSubplot:xlabel='Paid_flag', ylabel='count'>"
      ]
     },
     "execution_count": 129,
     "metadata": {},
     "output_type": "execute_result"
    },
    {
     "data": {
      "image/png": "[encoded data removed]",
      "text/plain": [
       "<Figure size 432x288 with 1 Axes>"
      ]
     },
     "metadata": {
      "needs_background": "light"
     },
     "output_type": "display_data"
    }
   ],
   "source": [
    "#find which type of user watches more videos\n",
    "sns.countplot(Video_activity1['Paid_flag'])"
   ]
  },
  {
   "cell_type": "markdown",
   "metadata": {},
   "source": [
    "Paid customers watch more number of videos"
   ]
  },
  {
   "cell_type": "code",
   "execution_count": 130,
   "metadata": {},
   "outputs": [
    {
     "data": {
      "text/plain": [
       "5861    187\n",
       "Name: video_id, dtype: int64"
      ]
     },
     "execution_count": 130,
     "metadata": {},
     "output_type": "execute_result"
    }
   ],
   "source": [
    "#most watched video among paid\n",
    "df1=Video_activity1.loc[Video_activity1['Paid_flag'] == 'Paid']\n",
    "\n",
    "df1['video_id'].value_counts(ascending=False).head(1)\n"
   ]
  },
  {
   "cell_type": "markdown",
   "metadata": {},
   "source": [
    "video_id 5861 is having high number of watch among paid"
   ]
  },
  {
   "cell_type": "code",
   "execution_count": 131,
   "metadata": {},
   "outputs": [
    {
     "data": {
      "text/plain": [
       "22246    26\n",
       "Name: video_id, dtype: int64"
      ]
     },
     "execution_count": 131,
     "metadata": {},
     "output_type": "execute_result"
    }
   ],
   "source": [
    "#most watched video among unpaid\n",
    "\n",
    "df2=Video_activity1.loc[Video_activity1['Paid_flag'] == 'Unpaid']\n",
    "\n",
    "df2['video_id'].value_counts(ascending=False).head(1)"
   ]
  },
  {
   "cell_type": "markdown",
   "metadata": {},
   "source": [
    "video_id 22246 is having high number of watch among unpaid"
   ]
  },
  {
   "cell_type": "code",
   "execution_count": 132,
   "metadata": {},
   "outputs": [
    {
     "data": {
      "image/png": "[encoded data removed]",
      "text/plain": [
       "<Figure size 432x288 with 1 Axes>"
      ]
     },
     "metadata": {
      "needs_background": "light"
     },
     "output_type": "display_data"
    }
   ],
   "source": [
    "# Let's visualise the data with a scatter plot \n",
    "plt.scatter(Video_activity1.duration , Video_activity1.watched_duration)\n",
    "plt.title('Watched_duration v/s Duration')\n",
    "plt.xlabel(\"Duration\")\n",
    "plt.ylabel(\"watched_duration\")\n",
    "plt.show()"
   ]
  },
  {
   "cell_type": "code",
   "execution_count": null,
   "metadata": {},
   "outputs": [],
   "source": []
  },
  {
   "cell_type": "code",
   "execution_count": 133,
   "metadata": {},
   "outputs": [
    {
     "data": {
      "text/html": [
       "<div>\n",
       "<style scoped>\n",
       "    .dataframe tbody tr th:only-of-type {\n",
       "        vertical-align: middle;\n",
       "    }\n",
       "\n",
       "    .dataframe tbody tr th {\n",
       "        vertical-align: top;\n",
       "    }\n",
       "\n",
       "    .dataframe thead th {\n",
       "        text-align: right;\n",
       "    }\n",
       "</style>\n",
       "<table border=\"1\" class=\"dataframe\">\n",
       "  <thead>\n",
       "    <tr style=\"text-align: right;\">\n",
       "      <th></th>\n",
       "      <th>user_id</th>\n",
       "      <th>watch_instance_id</th>\n",
       "      <th>watched_at</th>\n",
       "      <th>video_id</th>\n",
       "      <th>duration</th>\n",
       "      <th>watched_duration</th>\n",
       "      <th>date_joined</th>\n",
       "      <th>date_of_first_purhcase</th>\n",
       "      <th>Paid_flag</th>\n",
       "    </tr>\n",
       "  </thead>\n",
       "  <tbody>\n",
       "    <tr>\n",
       "      <th>0</th>\n",
       "      <td>6</td>\n",
       "      <td>24552452</td>\n",
       "      <td>2021-06-12</td>\n",
       "      <td>25261</td>\n",
       "      <td>934</td>\n",
       "      <td>2</td>\n",
       "      <td>2021-06-04</td>\n",
       "      <td>2021-06-04</td>\n",
       "      <td>Paid</td>\n",
       "    </tr>\n",
       "    <tr>\n",
       "      <th>1</th>\n",
       "      <td>6</td>\n",
       "      <td>24552735</td>\n",
       "      <td>2021-06-12</td>\n",
       "      <td>25262</td>\n",
       "      <td>398</td>\n",
       "      <td>398</td>\n",
       "      <td>2021-06-04</td>\n",
       "      <td>2021-06-04</td>\n",
       "      <td>Paid</td>\n",
       "    </tr>\n",
       "    <tr>\n",
       "      <th>2</th>\n",
       "      <td>6</td>\n",
       "      <td>24011079</td>\n",
       "      <td>2021-06-04</td>\n",
       "      <td>24920</td>\n",
       "      <td>1589</td>\n",
       "      <td>55</td>\n",
       "      <td>2021-06-04</td>\n",
       "      <td>2021-06-04</td>\n",
       "      <td>Paid</td>\n",
       "    </tr>\n",
       "    <tr>\n",
       "      <th>3</th>\n",
       "      <td>6</td>\n",
       "      <td>24011800</td>\n",
       "      <td>2021-06-04</td>\n",
       "      <td>24531</td>\n",
       "      <td>319</td>\n",
       "      <td>28</td>\n",
       "      <td>2021-06-04</td>\n",
       "      <td>2021-06-04</td>\n",
       "      <td>Paid</td>\n",
       "    </tr>\n",
       "    <tr>\n",
       "      <th>4</th>\n",
       "      <td>6</td>\n",
       "      <td>24249571</td>\n",
       "      <td>2021-06-08</td>\n",
       "      <td>32825</td>\n",
       "      <td>317</td>\n",
       "      <td>15</td>\n",
       "      <td>2021-06-04</td>\n",
       "      <td>2021-06-04</td>\n",
       "      <td>Paid</td>\n",
       "    </tr>\n",
       "    <tr>\n",
       "      <th>...</th>\n",
       "      <td>...</td>\n",
       "      <td>...</td>\n",
       "      <td>...</td>\n",
       "      <td>...</td>\n",
       "      <td>...</td>\n",
       "      <td>...</td>\n",
       "      <td>...</td>\n",
       "      <td>...</td>\n",
       "      <td>...</td>\n",
       "    </tr>\n",
       "    <tr>\n",
       "      <th>12902</th>\n",
       "      <td>404095</td>\n",
       "      <td>27403959</td>\n",
       "      <td>2021-08-02</td>\n",
       "      <td>31593</td>\n",
       "      <td>1032</td>\n",
       "      <td>1032</td>\n",
       "      <td>2021-08-02</td>\n",
       "      <td>2021-08-01</td>\n",
       "      <td>Paid</td>\n",
       "    </tr>\n",
       "    <tr>\n",
       "      <th>12903</th>\n",
       "      <td>404277</td>\n",
       "      <td>27396584</td>\n",
       "      <td>2021-08-02</td>\n",
       "      <td>24108</td>\n",
       "      <td>0</td>\n",
       "      <td>163</td>\n",
       "      <td>2021-08-02</td>\n",
       "      <td>2021-08-02</td>\n",
       "      <td>Paid</td>\n",
       "    </tr>\n",
       "    <tr>\n",
       "      <th>12904</th>\n",
       "      <td>404277</td>\n",
       "      <td>27398055</td>\n",
       "      <td>2021-08-02</td>\n",
       "      <td>31592</td>\n",
       "      <td>369</td>\n",
       "      <td>264</td>\n",
       "      <td>2021-08-02</td>\n",
       "      <td>2021-08-02</td>\n",
       "      <td>Paid</td>\n",
       "    </tr>\n",
       "    <tr>\n",
       "      <th>12905</th>\n",
       "      <td>404290</td>\n",
       "      <td>27396361</td>\n",
       "      <td>2021-08-02</td>\n",
       "      <td>13609</td>\n",
       "      <td>59</td>\n",
       "      <td>47</td>\n",
       "      <td>2021-08-02</td>\n",
       "      <td>NaT</td>\n",
       "      <td>Unpaid</td>\n",
       "    </tr>\n",
       "    <tr>\n",
       "      <th>12906</th>\n",
       "      <td>404290</td>\n",
       "      <td>27396391</td>\n",
       "      <td>2021-08-02</td>\n",
       "      <td>13610</td>\n",
       "      <td>614</td>\n",
       "      <td>21</td>\n",
       "      <td>2021-08-02</td>\n",
       "      <td>NaT</td>\n",
       "      <td>Unpaid</td>\n",
       "    </tr>\n",
       "  </tbody>\n",
       "</table>\n",
       "<p>12907 rows × 9 columns</p>\n",
       "</div>"
      ],
      "text/plain": [
       "       user_id  watch_instance_id watched_at  video_id  duration  \\\n",
       "0            6           24552452 2021-06-12     25261       934   \n",
       "1            6           24552735 2021-06-12     25262       398   \n",
       "2            6           24011079 2021-06-04     24920      1589   \n",
       "3            6           24011800 2021-06-04     24531       319   \n",
       "4            6           24249571 2021-06-08     32825       317   \n",
       "...        ...                ...        ...       ...       ...   \n",
       "12902   404095           27403959 2021-08-02     31593      1032   \n",
       "12903   404277           27396584 2021-08-02     24108         0   \n",
       "12904   404277           27398055 2021-08-02     31592       369   \n",
       "12905   404290           27396361 2021-08-02     13609        59   \n",
       "12906   404290           27396391 2021-08-02     13610       614   \n",
       "\n",
       "       watched_duration date_joined date_of_first_purhcase Paid_flag  \n",
       "0                     2  2021-06-04             2021-06-04      Paid  \n",
       "1                   398  2021-06-04             2021-06-04      Paid  \n",
       "2                    55  2021-06-04             2021-06-04      Paid  \n",
       "3                    28  2021-06-04             2021-06-04      Paid  \n",
       "4                    15  2021-06-04             2021-06-04      Paid  \n",
       "...                 ...         ...                    ...       ...  \n",
       "12902              1032  2021-08-02             2021-08-01      Paid  \n",
       "12903               163  2021-08-02             2021-08-02      Paid  \n",
       "12904               264  2021-08-02             2021-08-02      Paid  \n",
       "12905                47  2021-08-02                    NaT    Unpaid  \n",
       "12906                21  2021-08-02                    NaT    Unpaid  \n",
       "\n",
       "[12907 rows x 9 columns]"
      ]
     },
     "execution_count": 133,
     "metadata": {},
     "output_type": "execute_result"
    }
   ],
   "source": [
    "#Change type of column watched_at to datetime\n",
    "Video_activity1['watched_at'] = Video_activity1['watched_at'].str.split(' ', 1).str[0].str.strip()\n",
    "Video_activity1['watched_at'] =pd.to_datetime(Video_activity1['watched_at'] )\n",
    "\n",
    "\n",
    "\n",
    "Video_activity1"
   ]
  },
  {
   "cell_type": "code",
   "execution_count": 134,
   "metadata": {},
   "outputs": [
    {
     "data": {
      "text/plain": [
       "Text(0.5, 1.0, 'Difference in days for a user to watch a video from date they joined')"
      ]
     },
     "execution_count": 134,
     "metadata": {},
     "output_type": "execute_result"
    },
    {
     "data": {
      "image/png": "[encoded data removed]",
      "text/plain": [
       "<Figure size 1296x360 with 1 Axes>"
      ]
     },
     "metadata": {
      "needs_background": "light"
     },
     "output_type": "display_data"
    }
   ],
   "source": [
    "#visualise distribtion of Difference in days for a user to watch a video from date they joined\n",
    "Video_activity1['diff']=(Video_activity1['watched_at']-Video_activity1['date_joined'])/np.timedelta64(1,'D')\n",
    "plt.figure(figsize = (18,5))\n",
    "sns.countplot(x='diff', hue='Paid_flag', data= Video_activity1).tick_params(axis='x', rotation = 90)\n",
    "plt.title('Difference in days for a user to watch a video from date they joined')"
   ]
  },
  {
   "cell_type": "markdown",
   "metadata": {},
   "source": [
    "Most of Users Start watching videos on their first days of joining"
   ]
  },
  {
   "cell_type": "code",
   "execution_count": null,
   "metadata": {},
   "outputs": [],
   "source": []
  },
  {
   "cell_type": "code",
   "execution_count": null,
   "metadata": {},
   "outputs": [],
   "source": []
  },
  {
   "cell_type": "code",
   "execution_count": 135,
   "metadata": {},
   "outputs": [
    {
     "name": "stdout",
     "output_type": "stream",
     "text": [
      "<class 'pandas.core.frame.DataFrame'>\n",
      "Int64Index: 12907 entries, 0 to 12906\n",
      "Data columns (total 10 columns):\n",
      " #   Column                  Non-Null Count  Dtype         \n",
      "---  ------                  --------------  -----         \n",
      " 0   user_id                 12907 non-null  int64         \n",
      " 1   watch_instance_id       12907 non-null  int64         \n",
      " 2   watched_at              12907 non-null  datetime64[ns]\n",
      " 3   video_id                12907 non-null  int64         \n",
      " 4   duration                12907 non-null  int64         \n",
      " 5   watched_duration        12907 non-null  int64         \n",
      " 6   date_joined             12907 non-null  datetime64[ns]\n",
      " 7   date_of_first_purhcase  12302 non-null  datetime64[ns]\n",
      " 8   Paid_flag               12907 non-null  object        \n",
      " 9   diff                    12907 non-null  float64       \n",
      "dtypes: datetime64[ns](3), float64(1), int64(5), object(1)\n",
      "memory usage: 1.7+ MB\n"
     ]
    }
   ],
   "source": [
    "Video_activity1.info()"
   ]
  },
  {
   "cell_type": "code",
   "execution_count": null,
   "metadata": {},
   "outputs": [],
   "source": []
  },
  {
   "cell_type": "code",
   "execution_count": null,
   "metadata": {},
   "outputs": [],
   "source": []
  },
  {
   "cell_type": "code",
   "execution_count": 136,
   "metadata": {},
   "outputs": [
    {
     "data": {
      "image/png": "[encoded data removed]",
      "text/plain": [
       "<Figure size 720x504 with 1 Axes>"
      ]
     },
     "metadata": {
      "needs_background": "light"
     },
     "output_type": "display_data"
    }
   ],
   "source": [
    "#Visualise percentage of watched duration for paid and unpaid\n",
    "perc=((Video_activity1['watched_duration']/Video_activity1['duration'])*100)\n",
    "paid_f=Video_activity1['Paid_flag']\n",
    " \n",
    "# Figure Size\n",
    "fig = plt.figure(figsize =(10, 7))\n",
    " \n",
    "# Horizontal Bar Plot\n",
    "plt.bar(paid_f, perc)\n",
    "plt.title('Duration v/s Paid_flag')\n",
    "plt.ylabel(\"Duration\")\n",
    "\n",
    "plt.show()"
   ]
  },
  {
   "cell_type": "markdown",
   "metadata": {},
   "source": [
    "Paid users seems to watch more duration than unpaid"
   ]
  },
  {
   "cell_type": "markdown",
   "metadata": {},
   "source": [
    "### Per-user targets we should aim to increase conversion percentage."
   ]
  },
  {
   "cell_type": "markdown",
   "metadata": {},
   "source": [
    "- Contact the users within 2 days of their joining date.Users are more likely to purchase on their initial days\n",
    "- Users who subscribe for Spoken_eng and spoken_eng_hindi are more likely to get converted to a paying customer\n",
    "- Users who attempt more number of Quizes and have status completed can be easily converted to paid customers\n",
    "- Those customers who interact with studycard on their initial 2 days of joining are more likely to be converted as paid\n",
    "- More the duration of video watched,more chance that they can be converted"
   ]
  },
  {
   "cell_type": "markdown",
   "metadata": {},
   "source": [
    "# "
   ]
  },
  {
   "cell_type": "code",
   "execution_count": null,
   "metadata": {},
   "outputs": [],
   "source": []
  },
  {
   "cell_type": "code",
   "execution_count": null,
   "metadata": {},
   "outputs": [],
   "source": []
  },
  {
   "cell_type": "code",
   "execution_count": null,
   "metadata": {},
   "outputs": [],
   "source": []
  },
  {
   "cell_type": "code",
   "execution_count": null,
   "metadata": {},
   "outputs": [],
   "source": []
  },
  {
   "cell_type": "code",
   "execution_count": null,
   "metadata": {},
   "outputs": [],
   "source": []
  },
  {
   "cell_type": "code",
   "execution_count": null,
   "metadata": {},
   "outputs": [],
   "source": []
  },
  {
   "cell_type": "code",
   "execution_count": null,
   "metadata": {},
   "outputs": [],
   "source": []
  },
  {
   "cell_type": "code",
   "execution_count": null,
   "metadata": {},
   "outputs": [],
   "source": []
  },
  {
   "cell_type": "code",
   "execution_count": null,
   "metadata": {},
   "outputs": [],
   "source": []
  },
  {
   "cell_type": "code",
   "execution_count": null,
   "metadata": {},
   "outputs": [],
   "source": []
  },
  {
   "cell_type": "code",
   "execution_count": null,
   "metadata": {},
   "outputs": [],
   "source": []
  },
  {
   "cell_type": "code",
   "execution_count": null,
   "metadata": {},
   "outputs": [],
   "source": []
  },
  {
   "cell_type": "code",
   "execution_count": null,
   "metadata": {},
   "outputs": [],
   "source": []
  },
  {
   "cell_type": "code",
   "execution_count": null,
   "metadata": {},
   "outputs": [],
   "source": []
  },
  {
   "cell_type": "code",
   "execution_count": null,
   "metadata": {},
   "outputs": [],
   "source": []
  },
  {
   "cell_type": "code",
   "execution_count": null,
   "metadata": {},
   "outputs": [],
   "source": []
  },
  {
   "cell_type": "code",
   "execution_count": null,
   "metadata": {},
   "outputs": [],
   "source": []
  },
  {
   "cell_type": "code",
   "execution_count": null,
   "metadata": {},
   "outputs": [],
   "source": []
  },
  {
   "cell_type": "code",
   "execution_count": null,
   "metadata": {},
   "outputs": [],
   "source": []
  },
  {
   "cell_type": "code",
   "execution_count": null,
   "metadata": {},
   "outputs": [],
   "source": []
  },
  {
   "cell_type": "code",
   "execution_count": null,
   "metadata": {},
   "outputs": [],
   "source": []
  },
  {
   "cell_type": "code",
   "execution_count": null,
   "metadata": {},
   "outputs": [],
   "source": []
  },
  {
   "cell_type": "code",
   "execution_count": null,
   "metadata": {},
   "outputs": [],
   "source": []
  },
  {
   "cell_type": "code",
   "execution_count": null,
   "metadata": {},
   "outputs": [],
   "source": []
  },
  {
   "cell_type": "code",
   "execution_count": null,
   "metadata": {},
   "outputs": [],
   "source": []
  },
  {
   "cell_type": "code",
   "execution_count": null,
   "metadata": {},
   "outputs": [],
   "source": []
  },
  {
   "cell_type": "code",
   "execution_count": null,
   "metadata": {},
   "outputs": [],
   "source": []
  },
  {
   "cell_type": "code",
   "execution_count": null,
   "metadata": {},
   "outputs": [],
   "source": []
  },
  {
   "cell_type": "code",
   "execution_count": null,
   "metadata": {},
   "outputs": [],
   "source": []
  },
  {
   "cell_type": "code",
   "execution_count": null,
   "metadata": {},
   "outputs": [],
   "source": []
  },
  {
   "cell_type": "code",
   "execution_count": null,
   "metadata": {},
   "outputs": [],
   "source": []
  },
  {
   "cell_type": "code",
   "execution_count": null,
   "metadata": {},
   "outputs": [],
   "source": []
  },
  {
   "cell_type": "code",
   "execution_count": null,
   "metadata": {},
   "outputs": [],
   "source": []
  },
  {
   "cell_type": "code",
   "execution_count": null,
   "metadata": {},
   "outputs": [],
   "source": []
  },
  {
   "cell_type": "code",
   "execution_count": null,
   "metadata": {},
   "outputs": [],
   "source": []
  },
  {
   "cell_type": "code",
   "execution_count": null,
   "metadata": {},
   "outputs": [],
   "source": []
  },
  {
   "cell_type": "code",
   "execution_count": null,
   "metadata": {},
   "outputs": [],
   "source": []
  },
  {
   "cell_type": "code",
   "execution_count": null,
   "metadata": {},
   "outputs": [],
   "source": []
  },
  {
   "cell_type": "code",
   "execution_count": null,
   "metadata": {},
   "outputs": [],
   "source": []
  },
  {
   "cell_type": "code",
   "execution_count": null,
   "metadata": {},
   "outputs": [],
   "source": []
  },
  {
   "cell_type": "code",
   "execution_count": null,
   "metadata": {},
   "outputs": [],
   "source": []
  },
  {
   "cell_type": "code",
   "execution_count": null,
   "metadata": {},
   "outputs": [],
   "source": []
  },
  {
   "cell_type": "code",
   "execution_count": null,
   "metadata": {},
   "outputs": [],
   "source": []
  }
 ],
 "metadata": {
  "kernelspec": {
   "display_name": "Python 3",
   "language": "python",
   "name": "python3"
  },
  "language_info": {
   "codemirror_mode": {
    "name": "ipython",
    "version": 3
   },
   "file_extension": ".py",
   "mimetype": "text/x-python",
   "name": "python",
   "nbconvert_exporter": "python",
   "pygments_lexer": "ipython3",
   "version": "3.8.5"
  }
 },
 "nbformat": 4,
 "nbformat_minor": 4
}
